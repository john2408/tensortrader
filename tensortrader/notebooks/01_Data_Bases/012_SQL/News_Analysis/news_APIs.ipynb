{
 "cells": [
  {
   "cell_type": "markdown",
   "id": "9316f855-f1de-4d59-86f0-aaa1bc8988f8",
   "metadata": {},
   "source": [
    "## Finviz"
   ]
  },
  {
   "cell_type": "code",
   "execution_count": 4,
   "id": "c5770e5a-bf58-4674-9e93-a88831caabf5",
   "metadata": {},
   "outputs": [],
   "source": [
    "# docs: https://finvizfinance.readthedocs.io/en/latest/\n",
    "# https://finviz.com/news.ashx\n",
    "from finvizfinance.news import News\n",
    "fnews = News()\n",
    "all_news = fnews.getNews()\n",
    "# all_news['news'].head()\n",
    "# all_news['blogs'].head()"
   ]
  },
  {
   "cell_type": "code",
   "execution_count": 9,
   "id": "09501b6e-e9ef-4a9c-8c34-9c7c6d9681ba",
   "metadata": {},
   "outputs": [
    {
     "data": {
      "text/html": [
       "<div>\n",
       "<style scoped>\n",
       "    .dataframe tbody tr th:only-of-type {\n",
       "        vertical-align: middle;\n",
       "    }\n",
       "\n",
       "    .dataframe tbody tr th {\n",
       "        vertical-align: top;\n",
       "    }\n",
       "\n",
       "    .dataframe thead th {\n",
       "        text-align: right;\n",
       "    }\n",
       "</style>\n",
       "<table border=\"1\" class=\"dataframe\">\n",
       "  <thead>\n",
       "    <tr style=\"text-align: right;\">\n",
       "      <th></th>\n",
       "      <th>Date</th>\n",
       "      <th>Title</th>\n",
       "      <th>Source</th>\n",
       "      <th>Link</th>\n",
       "    </tr>\n",
       "  </thead>\n",
       "  <tbody>\n",
       "    <tr>\n",
       "      <th>85</th>\n",
       "      <td>May-21</td>\n",
       "      <td>Auto data startup Wejo in talks with Virtuoso ...</td>\n",
       "      <td>www.reuters.com</td>\n",
       "      <td>https://www.reuters.com/article/wejo-ma-spac/a...</td>\n",
       "    </tr>\n",
       "    <tr>\n",
       "      <th>86</th>\n",
       "      <td>May-21</td>\n",
       "      <td>Tribune shareholders approve co's sale to Alde...</td>\n",
       "      <td>www.reuters.com</td>\n",
       "      <td>https://www.reuters.com/article/tribune-alden-...</td>\n",
       "    </tr>\n",
       "    <tr>\n",
       "      <th>87</th>\n",
       "      <td>May-21</td>\n",
       "      <td>UPDATE 2-Law firm joins class action against C...</td>\n",
       "      <td>www.reuters.com</td>\n",
       "      <td>https://www.reuters.com/article/credit-suisse-...</td>\n",
       "    </tr>\n",
       "    <tr>\n",
       "      <th>88</th>\n",
       "      <td>May-21</td>\n",
       "      <td>Norwegian fund backs Exxon management in proxy...</td>\n",
       "      <td>www.reuters.com</td>\n",
       "      <td>https://www.reuters.com/article/exxon-mobil-pr...</td>\n",
       "    </tr>\n",
       "    <tr>\n",
       "      <th>89</th>\n",
       "      <td>May-21</td>\n",
       "      <td>Charles Payne: The stock market is a casino on...</td>\n",
       "      <td>video.foxbusiness.com</td>\n",
       "      <td>https://video.foxbusiness.com/v/6255428195001</td>\n",
       "    </tr>\n",
       "  </tbody>\n",
       "</table>\n",
       "</div>"
      ],
      "text/plain": [
       "      Date                                              Title  \\\n",
       "85  May-21  Auto data startup Wejo in talks with Virtuoso ...   \n",
       "86  May-21  Tribune shareholders approve co's sale to Alde...   \n",
       "87  May-21  UPDATE 2-Law firm joins class action against C...   \n",
       "88  May-21  Norwegian fund backs Exxon management in proxy...   \n",
       "89  May-21  Charles Payne: The stock market is a casino on...   \n",
       "\n",
       "                   Source                                               Link  \n",
       "85        www.reuters.com  https://www.reuters.com/article/wejo-ma-spac/a...  \n",
       "86        www.reuters.com  https://www.reuters.com/article/tribune-alden-...  \n",
       "87        www.reuters.com  https://www.reuters.com/article/credit-suisse-...  \n",
       "88        www.reuters.com  https://www.reuters.com/article/exxon-mobil-pr...  \n",
       "89  video.foxbusiness.com      https://video.foxbusiness.com/v/6255428195001  "
      ]
     },
     "execution_count": 9,
     "metadata": {},
     "output_type": "execute_result"
    }
   ],
   "source": [
    "all_news['news'].tail()"
   ]
  },
  {
   "cell_type": "code",
   "execution_count": 6,
   "id": "fb546e13-e77d-438d-9ec5-2b62e7650251",
   "metadata": {},
   "outputs": [
    {
     "data": {
      "text/plain": [
       "dict"
      ]
     },
     "execution_count": 6,
     "metadata": {},
     "output_type": "execute_result"
    }
   ],
   "source": [
    "type(all_news)"
   ]
  },
  {
   "cell_type": "markdown",
   "id": "98fb69cb-36f1-42ac-a27c-ba06c69a4ab2",
   "metadata": {},
   "source": [
    "## News API"
   ]
  },
  {
   "cell_type": "code",
   "execution_count": 2,
   "id": "105fd992-2f22-43d5-9d00-f41e4f419e01",
   "metadata": {},
   "outputs": [
    {
     "ename": "ValueError",
     "evalue": "cannot mix country/category param with sources param.",
     "output_type": "error",
     "traceback": [
      "\u001b[1;31m---------------------------------------------------------------------------\u001b[0m",
      "\u001b[1;31mValueError\u001b[0m                                Traceback (most recent call last)",
      "\u001b[1;32m<ipython-input-2-39816d8ff109>\u001b[0m in \u001b[0;36m<module>\u001b[1;34m\u001b[0m\n\u001b[0;32m      9\u001b[0m                                           \u001b[0mcategory\u001b[0m\u001b[1;33m=\u001b[0m\u001b[1;34m'business'\u001b[0m\u001b[1;33m,\u001b[0m\u001b[1;33m\u001b[0m\u001b[1;33m\u001b[0m\u001b[0m\n\u001b[0;32m     10\u001b[0m                                           \u001b[0mlanguage\u001b[0m\u001b[1;33m=\u001b[0m\u001b[1;34m'en'\u001b[0m\u001b[1;33m,\u001b[0m\u001b[1;33m\u001b[0m\u001b[1;33m\u001b[0m\u001b[0m\n\u001b[1;32m---> 11\u001b[1;33m                                           country='us')\n\u001b[0m\u001b[0;32m     12\u001b[0m \u001b[1;33m\u001b[0m\u001b[0m\n\u001b[0;32m     13\u001b[0m \u001b[1;31m# # /v2/everything\u001b[0m\u001b[1;33m\u001b[0m\u001b[1;33m\u001b[0m\u001b[1;33m\u001b[0m\u001b[0m\n",
      "\u001b[1;32m~\\Anaconda3\\envs\\AlgoTrading\\lib\\site-packages\\newsapi\\newsapi_client.py\u001b[0m in \u001b[0;36mget_top_headlines\u001b[1;34m(self, q, qintitle, sources, language, country, category, page_size, page)\u001b[0m\n\u001b[0;32m    103\u001b[0m         \u001b[1;31m# Sources\u001b[0m\u001b[1;33m\u001b[0m\u001b[1;33m\u001b[0m\u001b[1;33m\u001b[0m\u001b[0m\n\u001b[0;32m    104\u001b[0m         \u001b[1;32mif\u001b[0m \u001b[1;33m(\u001b[0m\u001b[0msources\u001b[0m \u001b[1;32mis\u001b[0m \u001b[1;32mnot\u001b[0m \u001b[1;32mNone\u001b[0m\u001b[1;33m)\u001b[0m \u001b[1;32mand\u001b[0m \u001b[1;33m(\u001b[0m\u001b[1;33m(\u001b[0m\u001b[0mcountry\u001b[0m \u001b[1;32mis\u001b[0m \u001b[1;32mnot\u001b[0m \u001b[1;32mNone\u001b[0m\u001b[1;33m)\u001b[0m \u001b[1;32mor\u001b[0m \u001b[1;33m(\u001b[0m\u001b[0mcategory\u001b[0m \u001b[1;32mis\u001b[0m \u001b[1;32mnot\u001b[0m \u001b[1;32mNone\u001b[0m\u001b[1;33m)\u001b[0m\u001b[1;33m)\u001b[0m\u001b[1;33m:\u001b[0m\u001b[1;33m\u001b[0m\u001b[1;33m\u001b[0m\u001b[0m\n\u001b[1;32m--> 105\u001b[1;33m             \u001b[1;32mraise\u001b[0m \u001b[0mValueError\u001b[0m\u001b[1;33m(\u001b[0m\u001b[1;34m\"cannot mix country/category param with sources param.\"\u001b[0m\u001b[1;33m)\u001b[0m\u001b[1;33m\u001b[0m\u001b[1;33m\u001b[0m\u001b[0m\n\u001b[0m\u001b[0;32m    106\u001b[0m \u001b[1;33m\u001b[0m\u001b[0m\n\u001b[0;32m    107\u001b[0m         \u001b[1;31m# Sources\u001b[0m\u001b[1;33m\u001b[0m\u001b[1;33m\u001b[0m\u001b[1;33m\u001b[0m\u001b[0m\n",
      "\u001b[1;31mValueError\u001b[0m: cannot mix country/category param with sources param."
     ]
    }
   ],
   "source": [
    "from newsapi import NewsApiClient\n",
    "\n",
    "# Init\n",
    "newsapi = NewsApiClient(api_key='0d06c052cb2243b9a6837f42e4afe327')\n",
    "\n",
    "# /v2/top-headlines\n",
    "top_headlines = newsapi.get_top_headlines(q='bitcoin',\n",
    "                                          sources='bbc-news,the-verge',\n",
    "                                          category='business',\n",
    "                                          language='en',\n",
    "                                          country='us')\n",
    "\n",
    "# # /v2/everything\n",
    "# all_articles = newsapi.get_everything(q='bitcoin',\n",
    "#                                       sources='bbc-news,the-verge',\n",
    "#                                       domains='bbc.co.uk,techcrunch.com',\n",
    "#                                       from_param='2017-12-01',\n",
    "#                                       to='2017-12-12',\n",
    "#                                       language='en',\n",
    "#                                       sort_by='relevancy',\n",
    "#                                       page=2)\n",
    "\n"
   ]
  },
  {
   "cell_type": "code",
   "execution_count": 3,
   "id": "b69cb20a-8dea-45ca-af9e-cf7e5f79937f",
   "metadata": {},
   "outputs": [],
   "source": [
    "# /v2/sources\n",
    "sources = newsapi.get_sources()"
   ]
  },
  {
   "cell_type": "code",
   "execution_count": 5,
   "id": "6eac0951-25a7-4760-95e6-4c144b2cf312",
   "metadata": {},
   "outputs": [],
   "source": [
    "# sources"
   ]
  },
  {
   "cell_type": "markdown",
   "id": "3091d216-a5f4-4858-b75b-57a2bfe6a01e",
   "metadata": {},
   "source": [
    "## Bing"
   ]
  },
  {
   "cell_type": "code",
   "execution_count": 7,
   "id": "604f3108-4b5c-409b-8262-ce9615446136",
   "metadata": {},
   "outputs": [
    {
     "name": "stdout",
     "output_type": "stream",
     "text": [
      "{\"_type\": \"TrendingTopics\", \"value\": [{\"_type\": \"News\\/Topic\", \"webSearchUrl\": \"https:\\/\\/www.bing.com\\/search?q=Lago+Maggiore+Seilbahnungl%C3%BCck+Tote&form=TNSA01&filters=tnTID%3a%22AFA12238-83F1-47ce-B81A-8B66830D600B%22+tnVersion%3a%224063170%22+Segment%3a%22popularnow.carousel%22+tnCol%3a%220%22+tnScenario%3a%22TrendingTopicsAPI%22+tnOrder%3a%22f9c39b5f-1389-4415-80b0-c1d1a40db7b5%22\", \"name\": \"Seilbahn-Horror\", \"image\": {\"_type\": \"ImageObject\", \"url\": \"https:\\/\\/www.bing.com\\/th?id=OPN.RTNews_L5cL-aMBSKRbSgdopdnK3A&c=14&rs=2&qlt=80&pcl=f9f9f9&pid=News\", \"provider\": [{\"_type\": \"Organization\", \"name\": \"© Uncredited\\/Soccorso Alpino e Speleologico Piemontese\\/dpa\"}]}, \"isBreakingNews\": false, \"query\": {\"_type\": \"Query\", \"text\": \"Lago Maggiore Seilbahnunglück Tote\"}, \"newsSearchUrl\": \"https:\\/\\/www.bing.com\\/news\\/search?q=Lago+Maggiore+Seilbahnungl%C3%BCck+Tote&form=TNSA02&filters=tnTID%3a%22AFA12238-83F1-47ce-B81A-8B66830D600B%22+tnVersion%3a%224063170%22+Segment%3a%22popularnow.carousel%22+tnCol%3a%220%22+tnScenario%3a%22TrendingTopicsAPI%22+tnOrder%3a%22f9c39b5f-1389-4415-80b0-c1d1a40db7b5%22\"}, {\"_type\": \"News\\/Topic\", \"webSearchUrl\": \"https:\\/\\/www.bing.com\\/search?q=S%C3%B6der+Strafen+Antisemitismus&form=TNSA01&filters=tnTID%3a%22E7149CD6-CD23-488a-BE56-6E5E1CD79BDE%22+tnVersion%3a%224063170%22+Segment%3a%22popularnow.carousel%22+tnCol%3a%221%22+tnScenario%3a%22TrendingTopicsAPI%22+tnOrder%3a%22f9c39b5f-1389-4415-80b0-c1d1a40db7b5%22\", \"name\": \"Fordert höhere Strafen\", \"image\": {\"_type\": \"ImageObject\", \"url\": \"https:\\/\\/www.bing.com\\/th?id=OPN.RTNews_dMifAhvtIPvhJ0UwBok18w&c=14&rs=2&qlt=80&pcl=f9f9f9&pid=News\", \"provider\": [{\"_type\": \"Organization\", \"name\": \"© Peter Kneffel\\/dpa\"}]}, \"isBreakingNews\": false, \"query\": {\"_type\": \"Query\", \"text\": \"Söder Strafen Antisemitismus\"}, \"newsSearchUrl\": \"https:\\/\\/www.bing.com\\/news\\/search?q=S%C3%B6der+Strafen+Antisemitismus&form=TNSA02&filters=tnTID%3a%22E7149CD6-CD23-488a-BE56-6E5E1CD79BDE%22+tnVersion%3a%224063170%22+Segment%3a%22popularnow.carousel%22+tnCol%3a%221%22+tnScenario%3a%22TrendingTopicsAPI%22+tnOrder%3a%22f9c39b5f-1389-4415-80b0-c1d1a40db7b5%22\"}, {\"_type\": \"News\\/Topic\", \"webSearchUrl\": \"https:\\/\\/www.bing.com\\/search?q=ESC+2021+Deutschland&form=TNSA01&filters=tnTID%3a%228BE38B5B-3BEE-4657-A37A-83C035312F04%22+tnVersion%3a%224063170%22+Segment%3a%22popularnow.carousel%22+tnCol%3a%222%22+tnScenario%3a%22TrendingTopicsAPI%22+tnOrder%3a%22f9c39b5f-1389-4415-80b0-c1d1a40db7b5%22\", \"name\": \"Hoffnung trotz Debakel\", \"image\": {\"_type\": \"ImageObject\", \"url\": \"https:\\/\\/www.bing.com\\/th?id=OPN.RTNews_u61foRpKPc1Jnl-JtBBUag&c=14&rs=2&qlt=80&pcl=f9f9f9&pid=News\", \"provider\": [{\"_type\": \"Organization\", \"name\": \"© Getty Images\"}]}, \"isBreakingNews\": false, \"query\": {\"_type\": \"Query\", \"text\": \"ESC 2021 Deutschland\"}, \"newsSearchUrl\": \"https:\\/\\/www.bing.com\\/news\\/search?q=ESC+2021+Deutschland&form=TNSA02&filters=tnTID%3a%228BE38B5B-3BEE-4657-A37A-83C035312F04%22+tnVersion%3a%224063170%22+Segment%3a%22popularnow.carousel%22+tnCol%3a%222%22+tnScenario%3a%22TrendingTopicsAPI%22+tnOrder%3a%22f9c39b5f-1389-4415-80b0-c1d1a40db7b5%22\"}, {\"_type\": \"News\\/Topic\", \"webSearchUrl\": \"https:\\/\\/www.bing.com\\/search?q=Vierj%C3%A4hrige+st%C3%BCrzt+von+Klippe&form=TNSA01&filters=tnTID%3a%22A50ABC5B-2F9B-43de-B26F-FB9D39EF18ED%22+tnVersion%3a%224063170%22+Segment%3a%22popularnow.carousel%22+tnCol%3a%223%22+tnScenario%3a%22TrendingTopicsAPI%22+tnOrder%3a%22f9c39b5f-1389-4415-80b0-c1d1a40db7b5%22\", \"name\": \"Kind stürzt von Klippe\", \"image\": {\"_type\": \"ImageObject\", \"url\": \"https:\\/\\/www.bing.com\\/th?id=OPN.RTNews_qpNwRxgxr_8cgEzCxO2LRQ&c=14&rs=2&qlt=80&pcl=f9f9f9&pid=News\", \"provider\": [{\"_type\": \"Organization\", \"name\": \"© picture alliance \\/ dpa\"}]}, \"isBreakingNews\": false, \"query\": {\"_type\": \"Query\", \"text\": \"Vierjährige stürzt von Klippe\"}, \"newsSearchUrl\": \"https:\\/\\/www.bing.com\\/news\\/search?q=Vierj%C3%A4hrige+st%C3%BCrzt+von+Klippe&form=TNSA02&filters=tnTID%3a%22A50ABC5B-2F9B-43de-B26F-FB9D39EF18ED%22+tnVersion%3a%224063170%22+Segment%3a%22popularnow.carousel%22+tnCol%3a%223%22+tnScenario%3a%22TrendingTopicsAPI%22+tnOrder%3a%22f9c39b5f-1389-4415-80b0-c1d1a40db7b5%22\"}, {\"_type\": \"News\\/Topic\", \"webSearchUrl\": \"https:\\/\\/www.bing.com\\/search?q=Schnee+K%C3%BChe+Almen&form=TNSA01&filters=tnTID%3a%2254433116-0016-41a2-B349-68418AA53C01%22+tnVersion%3a%224063170%22+Segment%3a%22popularnow.carousel%22+tnCol%3a%224%22+tnScenario%3a%22TrendingTopicsAPI%22+tnOrder%3a%22f9c39b5f-1389-4415-80b0-c1d1a40db7b5%22\", \"name\": \"Zu viel Schnee\", \"image\": {\"_type\": \"ImageObject\", \"url\": \"https:\\/\\/www.bing.com\\/th?id=OPN.RTNews_YDjipOnNvFNLHnMPMDIXZQ&c=14&rs=2&qlt=80&pcl=f9f9f9&pid=News\", \"provider\": [{\"_type\": \"Organization\", \"name\": \"© Karl-Josef Hildenbrand\\/dpa\"}]}, \"isBreakingNews\": false, \"query\": {\"_type\": \"Query\", \"text\": \"Schnee Kühe Almen\"}, \"newsSearchUrl\": \"https:\\/\\/www.bing.com\\/news\\/search?q=Schnee+K%C3%BChe+Almen&form=TNSA02&filters=tnTID%3a%2254433116-0016-41a2-B349-68418AA53C01%22+tnVersion%3a%224063170%22+Segment%3a%22popularnow.carousel%22+tnCol%3a%224%22+tnScenario%3a%22TrendingTopicsAPI%22+tnOrder%3a%22f9c39b5f-1389-4415-80b0-c1d1a40db7b5%22\"}, {\"_type\": \"News\\/Topic\", \"webSearchUrl\": \"https:\\/\\/www.bing.com\\/search?q=Corona+Neuinfektionen+Deutschland&form=TNSA01&filters=tnTID%3a%22629ECAF1-8837-4595-A225-43EF22E6629C%22+tnVersion%3a%224063170%22+Segment%3a%22popularnow.carousel%22+tnCol%3a%225%22+tnScenario%3a%22TrendingTopicsAPI%22+tnOrder%3a%22f9c39b5f-1389-4415-80b0-c1d1a40db7b5%22\", \"name\": \"Inzidenz unter 65\", \"image\": {\"_type\": \"ImageObject\", \"url\": \"https:\\/\\/www.bing.com\\/th?id=OPN.RTNews_aVk68WqMMhPOaJU_QvMcEA&c=14&rs=2&qlt=80&pcl=f9f9f9&pid=News\", \"provider\": [{\"_type\": \"Organization\", \"name\": \"© Bodo Marks\\/dpa\"}]}, \"isBreakingNews\": false, \"query\": {\"_type\": \"Query\", \"text\": \"Corona Neuinfektionen Deutschland\"}, \"newsSearchUrl\": \"https:\\/\\/www.bing.com\\/news\\/search?q=Corona+Neuinfektionen+Deutschland&form=TNSA02&filters=tnTID%3a%22629ECAF1-8837-4595-A225-43EF22E6629C%22+tnVersion%3a%224063170%22+Segment%3a%22popularnow.carousel%22+tnCol%3a%225%22+tnScenario%3a%22TrendingTopicsAPI%22+tnOrder%3a%22f9c39b5f-1389-4415-80b0-c1d1a40db7b5%22\"}, {\"_type\": \"News\\/Topic\", \"webSearchUrl\": \"https:\\/\\/www.bing.com\\/search?q=Effenberg+Baumann+Zoff&form=TNSA01&filters=tnTID%3a%227FAEF1D8-9AB1-472c-8B30-50E78EEE9D09%22+tnVersion%3a%224063170%22+Segment%3a%22popularnow.carousel%22+tnCol%3a%226%22+tnScenario%3a%22TrendingTopicsAPI%22+tnOrder%3a%22f9c39b5f-1389-4415-80b0-c1d1a40db7b5%22\", \"name\": \"Zoff live im TV\", \"image\": {\"_type\": \"ImageObject\", \"url\": \"https:\\/\\/www.bing.com\\/th?id=OPN.RTNews_xKpjmJuSuQVeluV63sN6Ww&c=14&rs=2&qlt=80&pcl=f9f9f9&pid=News\", \"provider\": [{\"_type\": \"Organization\", \"name\": \"© Screenshot: Sport1\"}]}, \"isBreakingNews\": false, \"query\": {\"_type\": \"Query\", \"text\": \"Effenberg Baumann Zoff\"}, \"newsSearchUrl\": \"https:\\/\\/www.bing.com\\/news\\/search?q=Effenberg+Baumann+Zoff&form=TNSA02&filters=tnTID%3a%227FAEF1D8-9AB1-472c-8B30-50E78EEE9D09%22+tnVersion%3a%224063170%22+Segment%3a%22popularnow.carousel%22+tnCol%3a%226%22+tnScenario%3a%22TrendingTopicsAPI%22+tnOrder%3a%22f9c39b5f-1389-4415-80b0-c1d1a40db7b5%22\"}, {\"_type\": \"News\\/Topic\", \"webSearchUrl\": \"https:\\/\\/www.bing.com\\/search?q=Lena+Meyer-Landrut+30&form=TNSA01&filters=tnTID%3a%2269489654-74A5-4172-BEC9-B66E72D652FA%22+tnVersion%3a%224063170%22+Segment%3a%22popularnow.carousel%22+tnCol%3a%227%22+tnScenario%3a%22TrendingTopicsAPI%22+tnOrder%3a%22f9c39b5f-1389-4415-80b0-c1d1a40db7b5%22\", \"name\": \"Lena feiert Geburtstag\", \"image\": {\"_type\": \"ImageObject\", \"url\": \"https:\\/\\/www.bing.com\\/th?id=OPN.RTNews_4CCYVJEaXZx4-TfmeCEpKg&c=14&rs=2&qlt=80&pcl=f9f9f9&pid=News\", \"provider\": [{\"_type\": \"Organization\", \"name\": \"© Britta Pedersen\\/dpa-Zentralbild\\/dpa\"}]}, \"isBreakingNews\": false, \"query\": {\"_type\": \"Query\", \"text\": \"Lena Meyer-Landrut 30\"}, \"newsSearchUrl\": \"https:\\/\\/www.bing.com\\/news\\/search?q=Lena+Meyer-Landrut+30&form=TNSA02&filters=tnTID%3a%2269489654-74A5-4172-BEC9-B66E72D652FA%22+tnVersion%3a%224063170%22+Segment%3a%22popularnow.carousel%22+tnCol%3a%227%22+tnScenario%3a%22TrendingTopicsAPI%22+tnOrder%3a%22f9c39b5f-1389-4415-80b0-c1d1a40db7b5%22\"}, {\"_type\": \"News\\/Topic\", \"webSearchUrl\": \"https:\\/\\/www.bing.com\\/search?q=Belarus+zwingt+Ryanair-Flugzeug+zur+Landung&form=TNSA01&filters=tnTID%3a%2224382AA1-F6E6-4c0f-B25A-5BF746CB0F5D%22+tnVersion%3a%224063170%22+Segment%3a%22popularnow.carousel%22+tnCol%3a%228%22+tnScenario%3a%22TrendingTopicsAPI%22+tnOrder%3a%22f9c39b5f-1389-4415-80b0-c1d1a40db7b5%22\", \"name\": \"Ryanair-Jet entführt\", \"image\": {\"_type\": \"ImageObject\", \"url\": \"https:\\/\\/www.bing.com\\/th?id=OPN.RTNews_60fKRBiEt2ycG0pzRGzPLw&c=14&rs=2&qlt=80&pcl=f9f9f9&pid=News\", \"provider\": [{\"_type\": \"Organization\", \"name\": \"© -\\/AFP\"}]}, \"isBreakingNews\": false, \"query\": {\"_type\": \"Query\", \"text\": \"Belarus zwingt Ryanair-Flugzeug zur Landung\"}, \"newsSearchUrl\": \"https:\\/\\/www.bing.com\\/news\\/search?q=Belarus+zwingt+Ryanair-Flugzeug+zur+Landung&form=TNSA02&filters=tnTID%3a%2224382AA1-F6E6-4c0f-B25A-5BF746CB0F5D%22+tnVersion%3a%224063170%22+Segment%3a%22popularnow.carousel%22+tnCol%3a%228%22+tnScenario%3a%22TrendingTopicsAPI%22+tnOrder%3a%22f9c39b5f-1389-4415-80b0-c1d1a40db7b5%22\"}, {\"_type\": \"News\\/Topic\", \"webSearchUrl\": \"https:\\/\\/www.bing.com\\/search?q=China+Ultra+Marathon&form=TNSA01&filters=tnTID%3a%22112895D1-E522-4dc7-8A09-077C31CF9CFD%22+tnVersion%3a%224063170%22+Segment%3a%22popularnow.carousel%22+tnCol%3a%229%22+tnScenario%3a%22TrendingTopicsAPI%22+tnOrder%3a%22f9c39b5f-1389-4415-80b0-c1d1a40db7b5%22\", \"name\": \"Tote bei Ultramarathon\", \"image\": {\"_type\": \"ImageObject\", \"url\": \"https:\\/\\/www.bing.com\\/th?id=OPN.RTNews_Zc7CpZnAt7J8lP0yLuEW-w&c=14&rs=2&qlt=80&pcl=f9f9f9&pid=News\", \"provider\": [{\"_type\": \"Organization\", \"name\": \"© Xinhua\\/picture alliance\"}]}, \"isBreakingNews\": false, \"query\": {\"_type\": \"Query\", \"text\": \"China Ultra Marathon\"}, \"newsSearchUrl\": \"https:\\/\\/www.bing.com\\/news\\/search?q=China+Ultra+Marathon&form=TNSA02&filters=tnTID%3a%22112895D1-E522-4dc7-8A09-077C31CF9CFD%22+tnVersion%3a%224063170%22+Segment%3a%22popularnow.carousel%22+tnCol%3a%229%22+tnScenario%3a%22TrendingTopicsAPI%22+tnOrder%3a%22f9c39b5f-1389-4415-80b0-c1d1a40db7b5%22\"}, {\"_type\": \"News\\/Topic\", \"webSearchUrl\": \"https:\\/\\/www.bing.com\\/search?q=Kongo+Nyiragongo+Vulkanausbruch&form=TNSA01&filters=tnTID%3a%225A7FDDC1-69DD-497c-AD34-9789F01C4F24%22+tnVersion%3a%224063170%22+Segment%3a%22popularnow.carousel%22+tnCol%3a%2210%22+tnScenario%3a%22TrendingTopicsAPI%22+tnOrder%3a%22f9c39b5f-1389-4415-80b0-c1d1a40db7b5%22\", \"name\": \"Panik nach Ausbruch\", \"image\": {\"_type\": \"ImageObject\", \"url\": \"https:\\/\\/www.bing.com\\/th?id=OPN.RTNews_5JUlFOGIFr06ApGRqWvXkQ&c=14&rs=2&qlt=80&pcl=f9f9f9&pid=News\", \"provider\": [{\"_type\": \"Organization\", \"name\": \"© Steve Teril\\/AFP\\/Getty Images\"}]}, \"isBreakingNews\": false, \"query\": {\"_type\": \"Query\", \"text\": \"Kongo Nyiragongo Vulkanausbruch\"}, \"newsSearchUrl\": \"https:\\/\\/www.bing.com\\/news\\/search?q=Kongo+Nyiragongo+Vulkanausbruch&form=TNSA02&filters=tnTID%3a%225A7FDDC1-69DD-497c-AD34-9789F01C4F24%22+tnVersion%3a%224063170%22+Segment%3a%22popularnow.carousel%22+tnCol%3a%2210%22+tnScenario%3a%22TrendingTopicsAPI%22+tnOrder%3a%22f9c39b5f-1389-4415-80b0-c1d1a40db7b5%22\"}, {\"_type\": \"News\\/Topic\", \"webSearchUrl\": \"https:\\/\\/www.bing.com\\/search?q=Biontech+AstraZeneca+indische+Variante&form=TNSA01&filters=tnTID%3a%22C354A0F4-9B97-4e53-B92D-B9969E2F5FE6%22+tnVersion%3a%224063170%22+Segment%3a%22popularnow.carousel%22+tnCol%3a%2211%22+tnScenario%3a%22TrendingTopicsAPI%22+tnOrder%3a%22f9c39b5f-1389-4415-80b0-c1d1a40db7b5%22\", \"name\": \"Schützt vor Mutante\", \"image\": {\"_type\": \"ImageObject\", \"url\": \"https:\\/\\/www.bing.com\\/th?id=OPN.RTNews_alWfPQ5iN5VuD0icw89tTQ&c=14&rs=2&qlt=80&pcl=f9f9f9&pid=News\", \"provider\": [{\"_type\": \"Organization\", \"name\": \"© Alessandra Tarantino \\/ AP\"}]}, \"isBreakingNews\": false, \"query\": {\"_type\": \"Query\", \"text\": \"Biontech AstraZeneca indische Variante\"}, \"newsSearchUrl\": \"https:\\/\\/www.bing.com\\/news\\/search?q=Biontech+AstraZeneca+indische+Variante&form=TNSA02&filters=tnTID%3a%22C354A0F4-9B97-4e53-B92D-B9969E2F5FE6%22+tnVersion%3a%224063170%22+Segment%3a%22popularnow.carousel%22+tnCol%3a%2211%22+tnScenario%3a%22TrendingTopicsAPI%22+tnOrder%3a%22f9c39b5f-1389-4415-80b0-c1d1a40db7b5%22\"}, {\"_type\": \"News\\/Topic\", \"webSearchUrl\": \"https:\\/\\/www.bing.com\\/search?q=Annalena+Baerbock+versteuert+Sonderzahlungen&form=TNSA01&filters=tnTID%3a%22A3849821-28E8-40a7-B293-1943186F49FE%22+tnVersion%3a%224063170%22+Segment%3a%22popularnow.carousel%22+tnCol%3a%2212%22+tnScenario%3a%22TrendingTopicsAPI%22+tnOrder%3a%22f9c39b5f-1389-4415-80b0-c1d1a40db7b5%22\", \"name\": \"Versteuert Zahlungen\", \"image\": {\"_type\": \"ImageObject\", \"url\": \"https:\\/\\/www.bing.com\\/th?id=OPN.RTNews_tlweSFBVePvl8v31YHZkWA&c=14&rs=2&qlt=80&pcl=f9f9f9&pid=News\", \"provider\": [{\"_type\": \"Organization\", \"name\": \"© Kay Nietfeld \\/ picture alliance\\/dpa\"}]}, \"isBreakingNews\": false, \"query\": {\"_type\": \"Query\", \"text\": \"Annalena Baerbock versteuert Sonderzahlungen\"}, \"newsSearchUrl\": \"https:\\/\\/www.bing.com\\/news\\/search?q=Annalena+Baerbock+versteuert+Sonderzahlungen&form=TNSA02&filters=tnTID%3a%22A3849821-28E8-40a7-B293-1943186F49FE%22+tnVersion%3a%224063170%22+Segment%3a%22popularnow.carousel%22+tnCol%3a%2212%22+tnScenario%3a%22TrendingTopicsAPI%22+tnOrder%3a%22f9c39b5f-1389-4415-80b0-c1d1a40db7b5%22\"}, {\"_type\": \"News\\/Topic\", \"webSearchUrl\": \"https:\\/\\/www.bing.com\\/search?q=Mehrheit+der+Deutschen+lehnt+gendergerechte+Sprache+ab&form=TNSA01&filters=tnTID%3a%22B9897496-7A48-4e11-A21B-CC0CC7974AB1%22+tnVersion%3a%224063170%22+Segment%3a%22popularnow.carousel%22+tnCol%3a%2213%22+tnScenario%3a%22TrendingTopicsAPI%22+tnOrder%3a%22f9c39b5f-1389-4415-80b0-c1d1a40db7b5%22\", \"name\": \"Gegen Gender-Sprache\", \"image\": {\"_type\": \"ImageObject\", \"url\": \"https:\\/\\/www.bing.com\\/th?id=OPN.RTNews_LORvL-mcQo4FfzNdUNA2yQ&c=14&rs=2&qlt=80&pcl=f9f9f9&pid=News\", \"provider\": [{\"_type\": \"Organization\", \"name\": \"© Sebastian Gollnow\\/dpa\"}]}, \"isBreakingNews\": false, \"query\": {\"_type\": \"Query\", \"text\": \"Mehrheit der Deutschen lehnt gendergerechte Sprache ab\"}, \"newsSearchUrl\": \"https:\\/\\/www.bing.com\\/news\\/search?q=Mehrheit+der+Deutschen+lehnt+gendergerechte+Sprache+ab&form=TNSA02&filters=tnTID%3a%22B9897496-7A48-4e11-A21B-CC0CC7974AB1%22+tnVersion%3a%224063170%22+Segment%3a%22popularnow.carousel%22+tnCol%3a%2213%22+tnScenario%3a%22TrendingTopicsAPI%22+tnOrder%3a%22f9c39b5f-1389-4415-80b0-c1d1a40db7b5%22\"}, {\"_type\": \"News\\/Topic\", \"webSearchUrl\": \"https:\\/\\/www.bing.com\\/search?q=Nord+Stream+2&form=TNSA01&filters=tnTID%3a%22984FDDDD-E136-4cb2-A7DE-CEAFA595E7C5%22+tnVersion%3a%224063170%22+Segment%3a%22popularnow.carousel%22+tnCol%3a%2214%22+tnScenario%3a%22TrendingTopicsAPI%22+tnOrder%3a%22f9c39b5f-1389-4415-80b0-c1d1a40db7b5%22\", \"name\": \"Arbeiten laufen weiter\", \"image\": {\"_type\": \"ImageObject\", \"url\": \"https:\\/\\/www.bing.com\\/th?id=OPN.RTNews_1VU9zDVpi5RJazxo6xCJEA&c=14&rs=2&qlt=80&pcl=f9f9f9&pid=News\", \"provider\": [{\"_type\": \"Organization\", \"name\": \"© Jens Büttner\\/dpa-Zentralbild\\/dpa\"}]}, \"isBreakingNews\": false, \"query\": {\"_type\": \"Query\", \"text\": \"Nord Stream 2\"}, \"newsSearchUrl\": \"https:\\/\\/www.bing.com\\/news\\/search?q=Nord+Stream+2&form=TNSA02&filters=tnTID%3a%22984FDDDD-E136-4cb2-A7DE-CEAFA595E7C5%22+tnVersion%3a%224063170%22+Segment%3a%22popularnow.carousel%22+tnCol%3a%2214%22+tnScenario%3a%22TrendingTopicsAPI%22+tnOrder%3a%22f9c39b5f-1389-4415-80b0-c1d1a40db7b5%22\"}, {\"_type\": \"News\\/Topic\", \"webSearchUrl\": \"https:\\/\\/www.bing.com\\/search?q=FDP+Umfrage+13+Prozent&form=TNSA01&filters=tnTID%3a%22C1104623-1023-473b-93BA-E50E31E5FF52%22+tnVersion%3a%224063170%22+Segment%3a%22popularnow.carousel%22+tnCol%3a%2215%22+tnScenario%3a%22TrendingTopicsAPI%22+tnOrder%3a%22f9c39b5f-1389-4415-80b0-c1d1a40db7b5%22\", \"name\": \"Aktuelle Umfrage\", \"image\": {\"_type\": \"ImageObject\", \"url\": \"https:\\/\\/www.bing.com\\/th?id=OPN.RTNews_dvBhS--wfxwg7lw346gSZA&c=14&rs=2&qlt=80&pcl=f9f9f9&pid=News\", \"provider\": [{\"_type\": \"Organization\", \"name\": \"© Kay Nietfeld\\/dpa\"}]}, \"isBreakingNews\": false, \"query\": {\"_type\": \"Query\", \"text\": \"FDP Umfrage 13 Prozent\"}, \"newsSearchUrl\": \"https:\\/\\/www.bing.com\\/news\\/search?q=FDP+Umfrage+13+Prozent&form=TNSA02&filters=tnTID%3a%22C1104623-1023-473b-93BA-E50E31E5FF52%22+tnVersion%3a%224063170%22+Segment%3a%22popularnow.carousel%22+tnCol%3a%2215%22+tnScenario%3a%22TrendingTopicsAPI%22+tnOrder%3a%22f9c39b5f-1389-4415-80b0-c1d1a40db7b5%22\"}, {\"_type\": \"News\\/Topic\", \"webSearchUrl\": \"https:\\/\\/www.bing.com\\/search?q=Myanmar+20+Tote+bei+Gefechten&form=TNSA01&filters=tnTID%3a%229650CF0C-8855-46ec-B474-F240A5355FB4%22+tnVersion%3a%224063170%22+Segment%3a%22popularnow.carousel%22+tnCol%3a%2216%22+tnScenario%3a%22TrendingTopicsAPI%22+tnOrder%3a%22f9c39b5f-1389-4415-80b0-c1d1a40db7b5%22\", \"name\": \"20 Tote bei Gefechten\", \"image\": {\"_type\": \"ImageObject\", \"url\": \"https:\\/\\/www.bing.com\\/th?id=OPN.RTNews_cfywKHACKH3EJsBQQgx5qQ&c=14&rs=2&qlt=80&pcl=f9f9f9&pid=News\", \"provider\": [{\"_type\": \"Organization\", \"name\": \"© Uncredited\\/AP\\/dpa\"}]}, \"isBreakingNews\": false, \"query\": {\"_type\": \"Query\", \"text\": \"Myanmar 20 Tote bei Gefechten\"}, \"newsSearchUrl\": \"https:\\/\\/www.bing.com\\/news\\/search?q=Myanmar+20+Tote+bei+Gefechten&form=TNSA02&filters=tnTID%3a%229650CF0C-8855-46ec-B474-F240A5355FB4%22+tnVersion%3a%224063170%22+Segment%3a%22popularnow.carousel%22+tnCol%3a%2216%22+tnScenario%3a%22TrendingTopicsAPI%22+tnOrder%3a%22f9c39b5f-1389-4415-80b0-c1d1a40db7b5%22\"}, {\"_type\": \"News\\/Topic\", \"webSearchUrl\": \"https:\\/\\/www.bing.com\\/search?q=Verstappen+gewinnt+in+Monaco&form=TNSA01&filters=tnTID%3a%22E0D33338-C74F-4821-A218-46297E1C1772%22+tnVersion%3a%224063170%22+Segment%3a%22popularnow.carousel%22+tnCol%3a%2217%22+tnScenario%3a%22TrendingTopicsAPI%22+tnOrder%3a%22f9c39b5f-1389-4415-80b0-c1d1a40db7b5%22\", \"name\": \"Verstappen triumphiert\", \"image\": {\"_type\": \"ImageObject\", \"url\": \"https:\\/\\/www.bing.com\\/th?id=OPN.RTNews_W54t7ALEp4GaYL7GPgflEw&c=14&rs=2&qlt=80&pcl=f9f9f9&pid=News\", \"provider\": [{\"_type\": \"Organization\", \"name\": \"© Gonzalo Fuentes\\/Pool Reuters\\/dpa\"}]}, \"isBreakingNews\": false, \"query\": {\"_type\": \"Query\", \"text\": \"Verstappen gewinnt in Monaco\"}, \"newsSearchUrl\": \"https:\\/\\/www.bing.com\\/news\\/search?q=Verstappen+gewinnt+in+Monaco&form=TNSA02&filters=tnTID%3a%22E0D33338-C74F-4821-A218-46297E1C1772%22+tnVersion%3a%224063170%22+Segment%3a%22popularnow.carousel%22+tnCol%3a%2217%22+tnScenario%3a%22TrendingTopicsAPI%22+tnOrder%3a%22f9c39b5f-1389-4415-80b0-c1d1a40db7b5%22\"}, {\"_type\": \"News\\/Topic\", \"webSearchUrl\": \"https:\\/\\/www.bing.com\\/search?q=FC+Bayern+Goldene+Buch+M%C3%BCnchen&form=TNSA01&filters=tnTID%3a%2213F550C2-0F12-4380-8019-77B6EC4D1AD4%22+tnVersion%3a%224063170%22+Segment%3a%22popularnow.carousel%22+tnCol%3a%2218%22+tnScenario%3a%22TrendingTopicsAPI%22+tnOrder%3a%22f9c39b5f-1389-4415-80b0-c1d1a40db7b5%22\", \"name\": \"Große Ehre für den FCB\", \"image\": {\"_type\": \"ImageObject\", \"url\": \"https:\\/\\/www.bing.com\\/th?id=OPN.RTNews_vGnXK8LR-McodZ35-vQpwg&c=14&rs=2&qlt=80&pcl=f9f9f9&pid=News\", \"provider\": [{\"_type\": \"Organization\", \"name\": \"© Sven Hoppe\\/dpa-Pool\\/dpa\"}]}, \"isBreakingNews\": false, \"query\": {\"_type\": \"Query\", \"text\": \"FC Bayern Goldene Buch München\"}, \"newsSearchUrl\": \"https:\\/\\/www.bing.com\\/news\\/search?q=FC+Bayern+Goldene+Buch+M%C3%BCnchen&form=TNSA02&filters=tnTID%3a%2213F550C2-0F12-4380-8019-77B6EC4D1AD4%22+tnVersion%3a%224063170%22+Segment%3a%22popularnow.carousel%22+tnCol%3a%2218%22+tnScenario%3a%22TrendingTopicsAPI%22+tnOrder%3a%22f9c39b5f-1389-4415-80b0-c1d1a40db7b5%22\"}, {\"_type\": \"News\\/Topic\", \"webSearchUrl\": \"https:\\/\\/www.bing.com\\/search?q=Demo+gegen+den+%C2%ABMietenwahnsinn%C2%BB+zieht+durch+Berlin&form=TNSA01&filters=tnTID%3a%22C27BE9EC-642C-4457-B099-F3CA8AB81047%22+tnVersion%3a%224063170%22+Segment%3a%22popularnow.carousel%22+tnCol%3a%2219%22+tnScenario%3a%22TrendingTopicsAPI%22+tnOrder%3a%22f9c39b5f-1389-4415-80b0-c1d1a40db7b5%22\", \"name\": \"'Mietenwahnsinn'-Demo\", \"image\": {\"_type\": \"ImageObject\", \"url\": \"https:\\/\\/www.bing.com\\/th?id=OPN.RTNews_blrsbvl-s7NM9JwX3aw3FA&c=14&rs=2&qlt=80&pcl=f9f9f9&pid=News\", \"provider\": [{\"_type\": \"Organization\", \"name\": \"© Christoph Soeder\\/dpa\"}]}, \"isBreakingNews\": false, \"query\": {\"_type\": \"Query\", \"text\": \"Demo gegen den «Mietenwahnsinn» zieht durch Berlin\"}, \"newsSearchUrl\": \"https:\\/\\/www.bing.com\\/news\\/search?q=Demo+gegen+den+%C2%ABMietenwahnsinn%C2%BB+zieht+durch+Berlin&form=TNSA02&filters=tnTID%3a%22C27BE9EC-642C-4457-B099-F3CA8AB81047%22+tnVersion%3a%224063170%22+Segment%3a%22popularnow.carousel%22+tnCol%3a%2219%22+tnScenario%3a%22TrendingTopicsAPI%22+tnOrder%3a%22f9c39b5f-1389-4415-80b0-c1d1a40db7b5%22\"}, {\"_type\": \"News\\/Topic\", \"webSearchUrl\": \"https:\\/\\/www.bing.com\\/search?q=Ungarn+lockert+Corona-Ma%C3%9Fnahmen&form=TNSA01&filters=tnTID%3a%22F870FC0D-D565-494c-B905-7CCEF843AA11%22+tnVersion%3a%224063170%22+Segment%3a%22popularnow.carousel%22+tnCol%3a%2220%22+tnScenario%3a%22TrendingTopicsAPI%22+tnOrder%3a%22f9c39b5f-1389-4415-80b0-c1d1a40db7b5%22\", \"name\": \"Ungarn lockert\", \"image\": {\"_type\": \"ImageObject\", \"url\": \"https:\\/\\/www.bing.com\\/th?id=OPN.RTNews_Gf_PkjSsYzPG83z6ikw0bw&c=14&rs=2&qlt=80&pcl=f9f9f9&pid=News\", \"provider\": [{\"_type\": \"Organization\", \"name\": \"© dpa\"}]}, \"isBreakingNews\": false, \"query\": {\"_type\": \"Query\", \"text\": \"Ungarn lockert Corona-Maßnahmen\"}, \"newsSearchUrl\": \"https:\\/\\/www.bing.com\\/news\\/search?q=Ungarn+lockert+Corona-Ma%C3%9Fnahmen&form=TNSA02&filters=tnTID%3a%22F870FC0D-D565-494c-B905-7CCEF843AA11%22+tnVersion%3a%224063170%22+Segment%3a%22popularnow.carousel%22+tnCol%3a%2220%22+tnScenario%3a%22TrendingTopicsAPI%22+tnOrder%3a%22f9c39b5f-1389-4415-80b0-c1d1a40db7b5%22\"}, {\"_type\": \"News\\/Topic\", \"webSearchUrl\": \"https:\\/\\/www.bing.com\\/search?q=Bochum+und+F%C3%BCrth+steigen+auf+-+Kiel+in+Relegation&form=TNSA01&filters=tnTID%3a%22D3EFC983-7E6D-4ffa-BEB2-4CB691EAF1BA%22+tnVersion%3a%224063170%22+Segment%3a%22popularnow.carousel%22+tnCol%3a%2221%22+tnScenario%3a%22TrendingTopicsAPI%22+tnOrder%3a%22f9c39b5f-1389-4415-80b0-c1d1a40db7b5%22\", \"name\": \"VfL und Fürth jubeln\", \"image\": {\"_type\": \"ImageObject\", \"url\": \"https:\\/\\/www.bing.com\\/th?id=OPN.RTNews_VaD_cHDnJMIefiNKds-rlg&c=14&rs=2&qlt=80&pcl=f9f9f9&pid=News\", \"provider\": [{\"_type\": \"Organization\", \"name\": \"© Guido Kirchner\\/dpa\"}]}, \"isBreakingNews\": false, \"query\": {\"_type\": \"Query\", \"text\": \"Bochum und Fürth steigen auf - Kiel in Relegation\"}, \"newsSearchUrl\": \"https:\\/\\/www.bing.com\\/news\\/search?q=Bochum+und+F%C3%BCrth+steigen+auf+-+Kiel+in+Relegation&form=TNSA02&filters=tnTID%3a%22D3EFC983-7E6D-4ffa-BEB2-4CB691EAF1BA%22+tnVersion%3a%224063170%22+Segment%3a%22popularnow.carousel%22+tnCol%3a%2221%22+tnScenario%3a%22TrendingTopicsAPI%22+tnOrder%3a%22f9c39b5f-1389-4415-80b0-c1d1a40db7b5%22\"}, {\"_type\": \"News\\/Topic\", \"webSearchUrl\": \"https:\\/\\/www.bing.com\\/search?q=Lewandowski+zollt+M%C3%BCller+Respekt&form=TNSA01&filters=tnTID%3a%22BCE00C3F-8CA4-41c3-8AB1-0E6B87A200CF%22+tnVersion%3a%224063170%22+Segment%3a%22popularnow.carousel%22+tnCol%3a%2222%22+tnScenario%3a%22TrendingTopicsAPI%22+tnOrder%3a%22f9c39b5f-1389-4415-80b0-c1d1a40db7b5%22\", \"name\": \"Lewy zollt Respekt\", \"image\": {\"_type\": \"ImageObject\", \"url\": \"https:\\/\\/www.bing.com\\/th?id=OPN.RTNews_NDuDYKoNnKjLwQOx9SYTpA&c=14&rs=2&qlt=80&pcl=f9f9f9&pid=News\", \"provider\": [{\"_type\": \"Organization\", \"name\": \"© Sven Hoppe\\/dpa-Pool\\/dpa\"}]}, \"isBreakingNews\": false, \"query\": {\"_type\": \"Query\", \"text\": \"Lewandowski zollt Müller Respekt\"}, \"newsSearchUrl\": \"https:\\/\\/www.bing.com\\/news\\/search?q=Lewandowski+zollt+M%C3%BCller+Respekt&form=TNSA02&filters=tnTID%3a%22BCE00C3F-8CA4-41c3-8AB1-0E6B87A200CF%22+tnVersion%3a%224063170%22+Segment%3a%22popularnow.carousel%22+tnCol%3a%2222%22+tnScenario%3a%22TrendingTopicsAPI%22+tnOrder%3a%22f9c39b5f-1389-4415-80b0-c1d1a40db7b5%22\"}, {\"_type\": \"News\\/Topic\", \"webSearchUrl\": \"https:\\/\\/www.bing.com\\/search?q=UN+will+Soforthilfe+f%C3%BCr+Gaza&form=TNSA01&filters=tnTID%3a%223F288F8C-A417-4a5b-9B46-CDBC8566EDDF%22+tnVersion%3a%224063170%22+Segment%3a%22popularnow.carousel%22+tnCol%3a%2223%22+tnScenario%3a%22TrendingTopicsAPI%22+tnOrder%3a%22f9c39b5f-1389-4415-80b0-c1d1a40db7b5%22\", \"name\": \"Soforthilfe für Gaza\", \"image\": {\"_type\": \"ImageObject\", \"url\": \"https:\\/\\/www.bing.com\\/th?id=OPN.RTNews_Mir9TjrEYpXZCjqVOs8H6Q&c=14&rs=2&qlt=80&pcl=f9f9f9&pid=News\", \"provider\": [{\"_type\": \"Organization\", \"name\": \"© Yasser Qudih\\/APA Images via ZUMA Wire\\/dpa\"}]}, \"isBreakingNews\": false, \"query\": {\"_type\": \"Query\", \"text\": \"UN will Soforthilfe für Gaza\"}, \"newsSearchUrl\": \"https:\\/\\/www.bing.com\\/news\\/search?q=UN+will+Soforthilfe+f%C3%BCr+Gaza&form=TNSA02&filters=tnTID%3a%223F288F8C-A417-4a5b-9B46-CDBC8566EDDF%22+tnVersion%3a%224063170%22+Segment%3a%22popularnow.carousel%22+tnCol%3a%2223%22+tnScenario%3a%22TrendingTopicsAPI%22+tnOrder%3a%22f9c39b5f-1389-4415-80b0-c1d1a40db7b5%22\"}, {\"_type\": \"News\\/Topic\", \"webSearchUrl\": \"https:\\/\\/www.bing.com\\/search?q=Spahn+Biontech+Sch%C3%BCler&form=TNSA01&filters=tnTID%3a%22258408DC-3085-4a69-986B-CB90388C2112%22+tnVersion%3a%224063170%22+Segment%3a%22popularnow.carousel%22+tnCol%3a%2224%22+tnScenario%3a%22TrendingTopicsAPI%22+tnOrder%3a%22f9c39b5f-1389-4415-80b0-c1d1a40db7b5%22\", \"name\": \"Biontech für Schüler\", \"image\": {\"_type\": \"ImageObject\", \"url\": \"https:\\/\\/www.bing.com\\/th?id=OPN.RTNews_ySSbzcyDmR67Vm0cehhyiQ&c=14&rs=2&qlt=80&pcl=f9f9f9&pid=News\", \"provider\": [{\"_type\": \"Organization\", \"name\": \"© Kay Nietfeld\\/dpa\"}]}, \"isBreakingNews\": false, \"query\": {\"_type\": \"Query\", \"text\": \"Spahn Biontech Schüler\"}, \"newsSearchUrl\": \"https:\\/\\/www.bing.com\\/news\\/search?q=Spahn+Biontech+Sch%C3%BCler&form=TNSA02&filters=tnTID%3a%22258408DC-3085-4a69-986B-CB90388C2112%22+tnVersion%3a%224063170%22+Segment%3a%22popularnow.carousel%22+tnCol%3a%2224%22+tnScenario%3a%22TrendingTopicsAPI%22+tnOrder%3a%22f9c39b5f-1389-4415-80b0-c1d1a40db7b5%22\"}]}\n"
     ]
    }
   ],
   "source": [
    "import requests\n",
    "\n",
    "url = \"https://bing-news-search1.p.rapidapi.com/news/trendingtopics\"\n",
    "\n",
    "querystring = {\"safeSearch\":\"Off\",\"textFormat\":\"Raw\"}\n",
    "\n",
    "headers = {\n",
    "    'x-bingapis-sdk': \"true\",\n",
    "    'x-rapidapi-key': \"4158d4c73emsh647262f10b2595dp12ef02jsn1c663cc2301c\",\n",
    "    'x-rapidapi-host': \"bing-news-search1.p.rapidapi.com\"\n",
    "    }\n",
    "\n",
    "response = requests.request(\"GET\", url, headers=headers, params=querystring)\n",
    "\n",
    "print(response.text)"
   ]
  },
  {
   "cell_type": "code",
   "execution_count": null,
   "id": "aa768ac8-7bb8-41c7-b602-4ad61e88eb98",
   "metadata": {},
   "outputs": [],
   "source": []
  }
 ],
 "metadata": {
  "kernelspec": {
   "display_name": "Python 3",
   "language": "python",
   "name": "python3"
  },
  "language_info": {
   "codemirror_mode": {
    "name": "ipython",
    "version": 3
   },
   "file_extension": ".py",
   "mimetype": "text/x-python",
   "name": "python",
   "nbconvert_exporter": "python",
   "pygments_lexer": "ipython3",
   "version": "3.7.7"
  }
 },
 "nbformat": 4,
 "nbformat_minor": 5
}
